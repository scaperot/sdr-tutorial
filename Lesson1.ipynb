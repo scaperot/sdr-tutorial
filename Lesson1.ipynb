{
 "cells": [
  {
   "cell_type": "markdown",
   "metadata": {},
   "source": [
    "# Software Defined Radios with HackRF, Lesson 1\n",
    "\n",
    "Video<br>\n",
    "https://www.youtube.com/watch?v=zNUCiGVJQo0\n",
    "\n",
    "in this lesson<br>\n",
    "- welcome to the video series\n",
    "- introduction to SDR\n",
    "- introduction to HackRF\n",
    "- course background\n",
    "- introduction to GNU Radio Companion\n",
    "- \"hello world\", receiving FM radio\n",
    "\n",
    "homework<br>\n",
    "- FM radio flowgraph: Create a flowgraph in GNU Radio Companion like the one in the screenshot below (using GNU Radio 3.8). Test the flowgraph by listening to a strong FM radio signal.\n",
    "\n",
    "![alt text](lesson1.png)\n",
    "\n",
    "resources:<br>\n",
    "- FM radio RX flowgraph: [lesson1.grc](lesson1.grc)\n",
    "- [Getting Started with HackRF](https://github.com/mossmann/hackrf/wiki/Getting-Started-with-HackRF-and-GNU-Radio)\n",
    "- [Getting Started with GNU Radio](https://wiki.gnuradio.org/index.php/Main_Page#Getting_started)\n",
    "- [Guided Tutorials for GNU Radio](https://wiki.gnuradio.org/index.php/Tutorials)\n",
    "- [HackRF One](https://greatscottgadgets.com/hackrf/)\n",
    "\n",
    "Note: This Jupyter Notebook is a modification of the following [webpage](https://greatscottgadgets.com/sdr/1/).  For this notebook, some links, flowgraphs were updated to a newer GNU Radio version.\n"
   ]
  },
  {
   "cell_type": "code",
   "execution_count": null,
   "metadata": {},
   "outputs": [],
   "source": []
  },
  {
   "cell_type": "code",
   "execution_count": null,
   "metadata": {},
   "outputs": [],
   "source": []
  }
 ],
 "metadata": {
  "kernelspec": {
   "display_name": "Python 3",
   "language": "python",
   "name": "python3"
  },
  "language_info": {
   "codemirror_mode": {
    "name": "ipython",
    "version": 3
   },
   "file_extension": ".py",
   "mimetype": "text/x-python",
   "name": "python",
   "nbconvert_exporter": "python",
   "pygments_lexer": "ipython3",
   "version": "3.8.5"
  }
 },
 "nbformat": 4,
 "nbformat_minor": 4
}
